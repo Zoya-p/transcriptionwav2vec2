{
  "nbformat": 4,
  "nbformat_minor": 0,
  "metadata": {
    "colab": {
      "provenance": [],
      "toc_visible": true
    },
    "kernelspec": {
      "name": "python3",
      "display_name": "Python 3"
    },
    "language_info": {
      "name": "python"
    }
  },
  "cells": [
    {
      "cell_type": "code",
      "source": [
        "\n",
        "!pip uninstall -y torch torchvision torchaudio transformers # i dont have gpu (baby laptop)so i had to uninstall this to accomodate cpu compatible options\n",
        "!pip install torch torchvision torchaudio --index-url https://download.pytorch.org/whl/cu121 #used for nn traing torchaudio for audio processing\n",
        "!pip install transformers #mainly used wav2vec2 so transformers was used for that\n",
        "!pip install numpy #for acuracy i used word error rate\n",
        "#thse 3 are cpu compatible version ,cuda related issues were coming before\n"
      ],
      "metadata": {
        "colab": {
          "base_uri": "https://localhost:8080/"
        },
        "id": "Fu_PzDAGIdJD",
        "outputId": "5f69bc76-601d-470c-9d01-2d9dade9b2e3"
      },
      "execution_count": 1,
      "outputs": [
        {
          "output_type": "stream",
          "name": "stdout",
          "text": [
            "Found existing installation: torch 2.4.1+cu121\n",
            "Uninstalling torch-2.4.1+cu121:\n",
            "  Successfully uninstalled torch-2.4.1+cu121\n",
            "Found existing installation: torchvision 0.19.1+cu121\n",
            "Uninstalling torchvision-0.19.1+cu121:\n",
            "  Successfully uninstalled torchvision-0.19.1+cu121\n",
            "Found existing installation: torchaudio 2.4.1+cu121\n",
            "Uninstalling torchaudio-2.4.1+cu121:\n",
            "  Successfully uninstalled torchaudio-2.4.1+cu121\n",
            "Found existing installation: transformers 4.45.1\n",
            "Uninstalling transformers-4.45.1:\n",
            "  Successfully uninstalled transformers-4.45.1\n",
            "Looking in indexes: https://download.pytorch.org/whl/cu121\n",
            "Collecting torch\n",
            "  Using cached https://download.pytorch.org/whl/cu121/torch-2.4.1%2Bcu121-cp310-cp310-linux_x86_64.whl (798.9 MB)\n",
            "Collecting torchvision\n",
            "  Using cached https://download.pytorch.org/whl/cu121/torchvision-0.19.1%2Bcu121-cp310-cp310-linux_x86_64.whl (7.1 MB)\n",
            "Collecting torchaudio\n",
            "  Using cached https://download.pytorch.org/whl/cu121/torchaudio-2.4.1%2Bcu121-cp310-cp310-linux_x86_64.whl (3.4 MB)\n",
            "Requirement already satisfied: filelock in /usr/local/lib/python3.10/dist-packages (from torch) (3.16.1)\n",
            "Requirement already satisfied: typing-extensions>=4.8.0 in /usr/local/lib/python3.10/dist-packages (from torch) (4.12.2)\n",
            "Requirement already satisfied: sympy in /usr/local/lib/python3.10/dist-packages (from torch) (1.13.3)\n",
            "Requirement already satisfied: networkx in /usr/local/lib/python3.10/dist-packages (from torch) (3.3)\n",
            "Requirement already satisfied: jinja2 in /usr/local/lib/python3.10/dist-packages (from torch) (3.1.4)\n",
            "Requirement already satisfied: fsspec in /usr/local/lib/python3.10/dist-packages (from torch) (2024.6.1)\n",
            "Requirement already satisfied: nvidia-cuda-nvrtc-cu12==12.1.105 in /usr/local/lib/python3.10/dist-packages (from torch) (12.1.105)\n",
            "Requirement already satisfied: nvidia-cuda-runtime-cu12==12.1.105 in /usr/local/lib/python3.10/dist-packages (from torch) (12.1.105)\n",
            "Requirement already satisfied: nvidia-cuda-cupti-cu12==12.1.105 in /usr/local/lib/python3.10/dist-packages (from torch) (12.1.105)\n",
            "Requirement already satisfied: nvidia-cudnn-cu12==9.1.0.70 in /usr/local/lib/python3.10/dist-packages (from torch) (9.1.0.70)\n",
            "Requirement already satisfied: nvidia-cublas-cu12==12.1.3.1 in /usr/local/lib/python3.10/dist-packages (from torch) (12.1.3.1)\n",
            "Requirement already satisfied: nvidia-cufft-cu12==11.0.2.54 in /usr/local/lib/python3.10/dist-packages (from torch) (11.0.2.54)\n",
            "Requirement already satisfied: nvidia-curand-cu12==10.3.2.106 in /usr/local/lib/python3.10/dist-packages (from torch) (10.3.2.106)\n",
            "Requirement already satisfied: nvidia-cusolver-cu12==11.4.5.107 in /usr/local/lib/python3.10/dist-packages (from torch) (11.4.5.107)\n",
            "Requirement already satisfied: nvidia-cusparse-cu12==12.1.0.106 in /usr/local/lib/python3.10/dist-packages (from torch) (12.1.0.106)\n",
            "Requirement already satisfied: nvidia-nccl-cu12==2.20.5 in /usr/local/lib/python3.10/dist-packages (from torch) (2.20.5)\n",
            "Requirement already satisfied: nvidia-nvtx-cu12==12.1.105 in /usr/local/lib/python3.10/dist-packages (from torch) (12.1.105)\n",
            "Requirement already satisfied: triton==3.0.0 in /usr/local/lib/python3.10/dist-packages (from torch) (3.0.0)\n",
            "Requirement already satisfied: nvidia-nvjitlink-cu12 in /usr/local/lib/python3.10/dist-packages (from nvidia-cusolver-cu12==11.4.5.107->torch) (12.6.68)\n",
            "Requirement already satisfied: numpy in /usr/local/lib/python3.10/dist-packages (from torchvision) (1.26.4)\n",
            "Requirement already satisfied: pillow!=8.3.*,>=5.3.0 in /usr/local/lib/python3.10/dist-packages (from torchvision) (10.4.0)\n",
            "Requirement already satisfied: MarkupSafe>=2.0 in /usr/local/lib/python3.10/dist-packages (from jinja2->torch) (2.1.5)\n",
            "Requirement already satisfied: mpmath<1.4,>=1.1.0 in /usr/local/lib/python3.10/dist-packages (from sympy->torch) (1.3.0)\n",
            "Installing collected packages: torch, torchvision, torchaudio\n",
            "Successfully installed torch-2.4.1+cu121 torchaudio-2.4.1+cu121 torchvision-0.19.1+cu121\n",
            "Collecting transformers\n",
            "  Using cached transformers-4.45.1-py3-none-any.whl.metadata (44 kB)\n",
            "Requirement already satisfied: filelock in /usr/local/lib/python3.10/dist-packages (from transformers) (3.16.1)\n",
            "Requirement already satisfied: huggingface-hub<1.0,>=0.23.2 in /usr/local/lib/python3.10/dist-packages (from transformers) (0.24.7)\n",
            "Requirement already satisfied: numpy>=1.17 in /usr/local/lib/python3.10/dist-packages (from transformers) (1.26.4)\n",
            "Requirement already satisfied: packaging>=20.0 in /usr/local/lib/python3.10/dist-packages (from transformers) (24.1)\n",
            "Requirement already satisfied: pyyaml>=5.1 in /usr/local/lib/python3.10/dist-packages (from transformers) (6.0.2)\n",
            "Requirement already satisfied: regex!=2019.12.17 in /usr/local/lib/python3.10/dist-packages (from transformers) (2024.9.11)\n",
            "Requirement already satisfied: requests in /usr/local/lib/python3.10/dist-packages (from transformers) (2.32.3)\n",
            "Requirement already satisfied: safetensors>=0.4.1 in /usr/local/lib/python3.10/dist-packages (from transformers) (0.4.5)\n",
            "Requirement already satisfied: tokenizers<0.21,>=0.20 in /usr/local/lib/python3.10/dist-packages (from transformers) (0.20.0)\n",
            "Requirement already satisfied: tqdm>=4.27 in /usr/local/lib/python3.10/dist-packages (from transformers) (4.66.5)\n",
            "Requirement already satisfied: fsspec>=2023.5.0 in /usr/local/lib/python3.10/dist-packages (from huggingface-hub<1.0,>=0.23.2->transformers) (2024.6.1)\n",
            "Requirement already satisfied: typing-extensions>=3.7.4.3 in /usr/local/lib/python3.10/dist-packages (from huggingface-hub<1.0,>=0.23.2->transformers) (4.12.2)\n",
            "Requirement already satisfied: charset-normalizer<4,>=2 in /usr/local/lib/python3.10/dist-packages (from requests->transformers) (3.3.2)\n",
            "Requirement already satisfied: idna<4,>=2.5 in /usr/local/lib/python3.10/dist-packages (from requests->transformers) (3.10)\n",
            "Requirement already satisfied: urllib3<3,>=1.21.1 in /usr/local/lib/python3.10/dist-packages (from requests->transformers) (2.2.3)\n",
            "Requirement already satisfied: certifi>=2017.4.17 in /usr/local/lib/python3.10/dist-packages (from requests->transformers) (2024.8.30)\n",
            "Using cached transformers-4.45.1-py3-none-any.whl (9.9 MB)\n",
            "Installing collected packages: transformers\n",
            "Successfully installed transformers-4.45.1\n",
            "Requirement already satisfied: numpy in /usr/local/lib/python3.10/dist-packages (1.26.4)\n"
          ]
        }
      ]
    },
    {
      "cell_type": "code",
      "source": [
        "!pip install yt_dlp  #i used it to download/fetch my video from youtbe\n",
        "import yt_dlp\n",
        "import torchaudio\n",
        "\n",
        "from transformers import Wav2Vec2ForCTC, Wav2Vec2Processor #helps make raw audio into sort of a usable input sothat it can be converted to text\n",
        "import torch #provides tensor operation and\n"
      ],
      "metadata": {
        "id": "P739RlQJIdMi",
        "colab": {
          "base_uri": "https://localhost:8080/"
        },
        "outputId": "812c6381-1744-40d7-ce49-d06dd96fc06b"
      },
      "execution_count": 2,
      "outputs": [
        {
          "output_type": "stream",
          "name": "stdout",
          "text": [
            "Requirement already satisfied: yt_dlp in /usr/local/lib/python3.10/dist-packages (2024.9.27)\n",
            "Requirement already satisfied: brotli in /usr/local/lib/python3.10/dist-packages (from yt_dlp) (1.1.0)\n",
            "Requirement already satisfied: certifi in /usr/local/lib/python3.10/dist-packages (from yt_dlp) (2024.8.30)\n",
            "Requirement already satisfied: mutagen in /usr/local/lib/python3.10/dist-packages (from yt_dlp) (1.47.0)\n",
            "Requirement already satisfied: pycryptodomex in /usr/local/lib/python3.10/dist-packages (from yt_dlp) (3.20.0)\n",
            "Requirement already satisfied: requests<3,>=2.32.2 in /usr/local/lib/python3.10/dist-packages (from yt_dlp) (2.32.3)\n",
            "Requirement already satisfied: urllib3<3,>=1.26.17 in /usr/local/lib/python3.10/dist-packages (from yt_dlp) (2.2.3)\n",
            "Requirement already satisfied: websockets>=13.0 in /usr/local/lib/python3.10/dist-packages (from yt_dlp) (13.1)\n",
            "Requirement already satisfied: charset-normalizer<4,>=2 in /usr/local/lib/python3.10/dist-packages (from requests<3,>=2.32.2->yt_dlp) (3.3.2)\n",
            "Requirement already satisfied: idna<4,>=2.5 in /usr/local/lib/python3.10/dist-packages (from requests<3,>=2.32.2->yt_dlp) (3.10)\n"
          ]
        }
      ]
    },
    {
      "cell_type": "code",
      "source": [
        "VIDEO_URL = \"https://www.youtube.com/watch?v=ooOELrGMn14\""
      ],
      "metadata": {
        "id": "jhwsqSh3IdQV"
      },
      "execution_count": 3,
      "outputs": []
    },
    {
      "cell_type": "code",
      "source": [
        "video_id = VIDEO_URL.split(\"=\") [1]"
      ],
      "metadata": {
        "id": "xu9_dhuI_2R_"
      },
      "execution_count": 4,
      "outputs": []
    },
    {
      "cell_type": "code",
      "source": [
        "from IPython.display import YouTubeVideo\n",
        "YouTubeVideo(video_id)"
      ],
      "metadata": {
        "colab": {
          "base_uri": "https://localhost:8080/",
          "height": 321
        },
        "id": "bUAXQBxWAQQ4",
        "outputId": "cb0ce9c3-07aa-46a8-b309-015a9f00c89b"
      },
      "execution_count": 5,
      "outputs": [
        {
          "output_type": "execute_result",
          "data": {
            "text/plain": [
              "<IPython.lib.display.YouTubeVideo at 0x79d68c571780>"
            ],
            "text/html": [
              "\n",
              "        <iframe\n",
              "            width=\"400\"\n",
              "            height=\"300\"\n",
              "            src=\"https://www.youtube.com/embed/ooOELrGMn14\"\n",
              "            frameborder=\"0\"\n",
              "            allowfullscreen\n",
              "            \n",
              "        ></iframe>\n",
              "        "
            ],
            "image/jpeg": "[encoded data removed]"
          },
          "metadata": {},
          "execution_count": 5
        }
      ]
    },
    {
      "cell_type": "code",
      "source": [
        "ydl_opts = {\n",
        "    'format': 'bestaudio/best',\n",
        "    'postprocessors': [{\n",
        "        'key': 'FFmpegExtractAudio',\n",
        "        'preferredcodec': 'wav',  # FFmpeg  is used to make wav file\n",
        "        'preferredquality': '192',  # Bitrate setup for better audio qualit\n",
        "    }],\n",
        "    'outtmpl': 'audio.%(ext)s',  # Saving the audio as audio.wav\n",
        "}"
      ],
      "metadata": {
        "id": "bO01QJsDIdT-"
      },
      "execution_count": 6,
      "outputs": []
    },
    {
      "cell_type": "code",
      "source": [
        "with yt_dlp.YoutubeDL(ydl_opts) as ydl:\n",
        "    ydl.download([VIDEO_URL])\n"
      ],
      "metadata": {
        "colab": {
          "base_uri": "https://localhost:8080/"
        },
        "id": "DhntVFxPIdWz",
        "outputId": "f0a14802-d4f5-4382-c900-b697b8820cbe"
      },
      "execution_count": 7,
      "outputs": [
        {
          "output_type": "stream",
          "name": "stdout",
          "text": [
            "[youtube] Extracting URL: https://www.youtube.com/watch?v=ooOELrGMn14\n",
            "[youtube] ooOELrGMn14: Downloading webpage\n",
            "[youtube] ooOELrGMn14: Downloading ios player API JSON\n",
            "[youtube] ooOELrGMn14: Downloading web creator player API JSON\n",
            "[youtube] ooOELrGMn14: Downloading m3u8 information\n",
            "[info] ooOELrGMn14: Downloading 1 format(s): 251\n",
            "[download] Destination: audio.webm\n",
            "[download] 100% of  905.23KiB in 00:00:00 at 2.26MiB/s   \n",
            "[ExtractAudio] Destination: audio.wav\n",
            "Deleting original file audio.webm (pass -k to keep)\n"
          ]
        }
      ]
    },
    {
      "cell_type": "code",
      "source": [
        "processor = Wav2Vec2Processor.from_pretrained(\"facebook/wav2vec2-large-960h\")\n",
        "model = Wav2Vec2ForCTC.from_pretrained(\"facebook/wav2vec2-large-960h\")"
      ],
      "metadata": {
        "colab": {
          "base_uri": "https://localhost:8080/"
        },
        "id": "xQgCMFDGO5Hf",
        "outputId": "20b80504-aa0d-4c80-cde0-3819819ab068"
      },
      "execution_count": 8,
      "outputs": [
        {
          "output_type": "stream",
          "name": "stderr",
          "text": [
            "/usr/local/lib/python3.10/dist-packages/huggingface_hub/utils/_token.py:89: UserWarning: \n",
            "The secret `HF_TOKEN` does not exist in your Colab secrets.\n",
            "To authenticate with the Hugging Face Hub, create a token in your settings tab (https://huggingface.co/settings/tokens), set it as secret in your Google Colab and restart your session.\n",
            "You will be able to reuse this secret in all of your notebooks.\n",
            "Please note that authentication is recommended but still optional to access public models or datasets.\n",
            "  warnings.warn(\n",
            "/usr/local/lib/python3.10/dist-packages/transformers/tokenization_utils_base.py:1617: FutureWarning: `clean_up_tokenization_spaces` was not set. It will be set to `True` by default. This behavior will be deprecated in transformers v4.45, and will be then set to `False` by default. For more details check this issue: https://github.com/huggingface/transformers/issues/31884\n",
            "  warnings.warn(\n",
            "Some weights of Wav2Vec2ForCTC were not initialized from the model checkpoint at facebook/wav2vec2-large-960h and are newly initialized: ['wav2vec2.masked_spec_embed']\n",
            "You should probably TRAIN this model on a down-stream task to be able to use it for predictions and inference.\n"
          ]
        }
      ]
    },
    {
      "cell_type": "code",
      "source": [
        "audio_file = 'audio.wav'  # This should be the filename of the downloaded audio\n",
        "waveform, sample_rate = torchaudio.load(audio_file)"
      ],
      "metadata": {
        "id": "vABWFj8xIdbK"
      },
      "execution_count": 9,
      "outputs": []
    },
    {
      "cell_type": "code",
      "source": [
        "if sample_rate != 16000: #pretrained wav2vec2 models req.frequency so resampled\n",
        "    resampler = torchaudio.transforms.Resample(orig_freq=sample_rate, new_freq=16000)\n",
        "    waveform = resampler(waveform)"
      ],
      "metadata": {
        "id": "CH5xfHJONe26"
      },
      "execution_count": 10,
      "outputs": []
    },
    {
      "cell_type": "code",
      "source": [
        "waveform = waveform.squeeze().numpy() #purther processing of waveform tensor ,reduces tensor of size 1 for 1d inputarray to be used by wav2vec2\n",
        "#numpy was used to change pytorch tensor to numpy array\n"
      ],
      "metadata": {
        "id": "6Dlg3nZjNe7F"
      },
      "execution_count": 11,
      "outputs": []
    },
    {
      "cell_type": "code",
      "source": [
        "inputs = processor(waveform, sampling_rate=16000, return_tensors=\"pt\", padding=True)"
      ],
      "metadata": {
        "id": "D1O4WDpHNe_n"
      },
      "execution_count": 12,
      "outputs": []
    },
    {
      "cell_type": "code",
      "source": [
        "with torch.no_grad(): #no gradient computation cuss i am not training this model amd memory precious TT\n",
        "    logits = model(inputs.input_values).logits #raw prediction output"
      ],
      "metadata": {
        "id": "9sYNxgfYNfDa"
      },
      "execution_count": 13,
      "outputs": []
    },
    {
      "cell_type": "code",
      "source": [
        "predicted_ids = torch.argmax(logits, dim=-1)#oper.done till last dim and tensor of predicted tocken id is given\n",
        "transcription = processor.batch_decode(predicted_ids) #decoding back to legible language"
      ],
      "metadata": {
        "id": "xJT6q4qKNfGv"
      },
      "execution_count": 14,
      "outputs": []
    },
    {
      "cell_type": "code",
      "source": [
        "print(\"Transcription:\")\n",
        "print(transcription[0])"
      ],
      "metadata": {
        "colab": {
          "base_uri": "https://localhost:8080/"
        },
        "id": "n4ssS-t7NfOP",
        "outputId": "55171afd-49d4-4859-9a2a-17d4a7dac8a2"
      },
      "execution_count": 15,
      "outputs": [
        {
          "output_type": "stream",
          "name": "stdout",
          "text": [
            "Transcription:\n",
            "WE BRING IN A STUDIO THIS MORNING ONE OF THE GAY RATES ACTIVES MISTER SHOULD I CALL YOU MISTER YE PAY JULIAN ONZEMA THANK YOU FOR COMING IN THINK GOOD MORNING MONINWHY ARE YOU GAY WHO SAYS IAM GA YOU ARE GAY YOU AE TRANSLAYIN MI A MY WET SUS THAT IAM YOU AE TRANSGENDA AND YOU GAYRATE ACTIVEIS AND AN OUTSPOKEN AM A A LISBIAN HOMOS SET SHUR HOW COULD I DESCRIBE YOU NOW WE'RE LOOKING AT THE RAGING DEBATE A YOUR GAYRATES ACTIVES WHY SHOULD SOME ONE BE GAY YOU HAVE ING A GODFRIEND YES D YOU PERFORM THE NATURAL OBLIGATIONS A IAM NOT SEXUALLY ACTIVE RITE NOW SO WHAT A LI JOGEOUS LADY LA JHOISE MA CHOISE AV JUST NOT HAVE HAVE CHOSEN NOT TO ENGAGE DOES IN THAT MAKE YOU GAY WHY DO YOU MEAN THAS IN THAT MAKE ME GA I AM I AM MALE AND ATTRACTED TO A FEMALE SO WHO IS GAY AGAY\n"
          ]
        }
      ]
    },
    {
      "cell_type": "code",
      "source": [
        "!pip install jiwer\n",
        "import jiwer"
      ],
      "metadata": {
        "colab": {
          "base_uri": "https://localhost:8080/"
        },
        "id": "KtcKkbEcndj3",
        "outputId": "40425720-7511-4b55-a89f-184bf0f05443"
      },
      "execution_count": 16,
      "outputs": [
        {
          "output_type": "stream",
          "name": "stdout",
          "text": [
            "Requirement already satisfied: jiwer in /usr/local/lib/python3.10/dist-packages (3.0.4)\n",
            "Requirement already satisfied: click<9.0.0,>=8.1.3 in /usr/local/lib/python3.10/dist-packages (from jiwer) (8.1.7)\n",
            "Requirement already satisfied: rapidfuzz<4,>=3 in /usr/local/lib/python3.10/dist-packages (from jiwer) (3.10.0)\n"
          ]
        }
      ]
    },
    {
      "cell_type": "code",
      "source": [
        "ground_truth = \"WE BRING IN THE STUDIO THIS MORNING ONE OF THE GAY RATES ACTISTS MISTER SHOULD I CALL YOU MISTER YE PE JULIAN ONZEIMA THANK YOU FOR COMING IN THINK GOOD MORNING MONING WHY ARE YOU GAY WHO SAYS IAM GAY YOU ARE GAY YOU ARE  A TRANSGENDER AS I SAID I AM YOU ARE TRANSGENDER AND YOU ARE GAY RIGHT ACTIVIST AND AN OUTSPOKEN AND A A LESBIAN HOMOS SET SHUR HOW COULD I DESCRIBE YOU NOW WE'RE LOOKING AT THE RAGING DEBATE A YOUR GAYRATES ACTIVES WHY SHOULD SOME ONE BE GAY YOU HAVE ING A GODFRIEND YES D YOU PERFORM THE NATURAL OBLIGATIONS A IAM NOT SEXUALLY ACTIVE RITE NOW SO WHAT A LI JOGEOUS LADY LA MY CHOICE AND JUST NOT HAVE HAVE CHOSEN NOT TO ENGAGE DOES IN THAT MAKE YOU GAY WHY DO YOU MEAN THAS IN THAT MAKE ME GAY I AM I AM MALE AND ATTRACTED TO A FEMALE SO WHO IS GAY A GAY\""
      ],
      "metadata": {
        "id": "ThKKbw81TqWg"
      },
      "execution_count": 17,
      "outputs": []
    },
    {
      "cell_type": "code",
      "source": [
        "predicted_transcription = \"WE BRING IN A STUDIO THIS MORNING ONE OF THE GAY RATES ACTIVES MISTER SHOULD I CALL YOU MISTER YE PAY JULIAN ONZEMA THANK YOU FOR COMING IN THINK GOOD MORNING MONINWHY ARE YOU GAY WHO SAYS IAM GA YOU ARE GAY YOU AE TRANSLAYIN MI A MY WET SUS THAT IAM YOU AE TRANSGENDA AND YOU GAYRATE ACTIVEIS AND AN OUTSPOKEN AM A A LISBIAN HOMOS SET SHUR HOW COULD I DESCRIBE YOU NOW WE'RE LOOKING AT THE RAGING DEBATE A YOUR GAYRATES ACTIVES WHY SHOULD SOME ONE BE GAY YOU HAVE ING A GODFRIEND YES D YOU PERFORM THE NATURAL OBLIGATIONS A IAM NOT SEXUALLY ACTIVE RITE NOW SO WHAT A LI JOGEOUS LADY LA JHOISE MA CHOISE AV JUST NOT HAVE HAVE CHOSEN NOT TO ENGAGE DOES IN THAT MAKE YOU GAY WHY DO YOU MEAN THAS IN THAT MAKE ME GA I AM I AM MALE AND ATTRACTED TO A FEMALE SO WHO IS GAY AGAY\""
      ],
      "metadata": {
        "id": "j_fhvdVETqei"
      },
      "execution_count": 18,
      "outputs": []
    },
    {
      "cell_type": "code",
      "source": [
        "wer = jiwer.wer(ground_truth, predicted_transcription)"
      ],
      "metadata": {
        "id": "KD-q23FW0Xbn"
      },
      "execution_count": 19,
      "outputs": []
    },
    {
      "cell_type": "code",
      "source": [
        "import numpy as np\n",
        "\n",
        "def wer(reference, hypothesis): #ref ground truth ,hypo prediction\n",
        "    # Split the sentences into words\n",
        "    r = reference.split()\n",
        "    h = hypothesis.split()\n",
        "#honestly no idea how wer worked so used gpt, got to know matrix is made to find how much cost it takes to change ref to hypo\n",
        "    d = np.zeros((len(r) + 1, len(h) + 1), dtype=np.uint32)\n",
        "    for i in range(len(r) + 1):\n",
        "        d[i][0] = i #shows cost of transforming ref to empty hypo\n",
        "    for j in range(len(h) + 1):\n",
        "        d[0][j] = j #shows cost of transforming from empty ref to hypo\n",
        "    for i in range(1, len(r) + 1):\n",
        "        for j in range(1, len(h) + 1):\n",
        "            if r[i - 1] == h[j - 1]: #no operation tobe done for a match\n",
        "                d[i][j] = d[i - 1][j - 1]\n",
        "            else:\n",
        "                substitution = d[i - 1][j - 1] + 1\n",
        "                insertion = d[i][j - 1] + 1\n",
        "                deletion = d[i - 1][j] + 1\n",
        "                d[i][j] = min(substitution, insertion, deletion)\n",
        "\n",
        "\n"
      ],
      "metadata": {
        "id": "C6ol1RowTqlY"
      },
      "execution_count": 20,
      "outputs": []
    },
    {
      "cell_type": "code",
      "source": [
        "wer_value = jiwer.wer(ground_truth, predicted_transcription)  # Ensure to call the function\n",
        "\n",
        "# Print the WER\n",
        "print(f\"WER: {wer_value:.4f}\")  #value is between 0 and 1 ,1 being all incorrrect\n",
        "accuracy = (1-wer_value) * 100\n",
        "print(f\"accuracy: {accuracy:.2f}%\")"
      ],
      "metadata": {
        "colab": {
          "base_uri": "https://localhost:8080/"
        },
        "id": "G0B1deWB19CT",
        "outputId": "b6b95b9c-b9bf-4b45-ca6b-9d2263d5a0b6"
      },
      "execution_count": 21,
      "outputs": [
        {
          "output_type": "stream",
          "name": "stdout",
          "text": [
            "WER: 0.1914\n",
            "accuracy: 80.86%\n"
          ]
        }
      ]
    },
    {
      "cell_type": "code",
      "source": [],
      "metadata": {
        "id": "SEch0RHabQGN"
      },
      "execution_count": 21,
      "outputs": []
    },
    {
      "cell_type": "code",
      "source": [],
      "metadata": {
        "id": "TtIopj2TbQQV"
      },
      "execution_count": 21,
      "outputs": []
    }
  ]
}